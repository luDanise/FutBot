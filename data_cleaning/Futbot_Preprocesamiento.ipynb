{
  "cells": [
    {
      "cell_type": "markdown",
      "metadata": {
        "id": "DjoiFQMFgrT1"
      },
      "source": [
        "# FutBot - Preprocesamiento de datos"
      ]
    },
    {
      "cell_type": "markdown",
      "metadata": {},
      "source": [
        "### Importacion de librerias"
      ]
    },
    {
      "cell_type": "code",
      "execution_count": 4,
      "metadata": {
        "id": "HtMnKZfrgeti"
      },
      "outputs": [],
      "source": [
        "import numpy as np\n",
        "import matplotlib.pyplot as plt\n",
        "import unicodedata\n",
        "import pandas as pd\n",
        "import seaborn as sns\n",
        "import unicodedata"
      ]
    },
    {
      "cell_type": "code",
      "execution_count": 5,
      "metadata": {
        "id": "4Dp5ZGZShKyD"
      },
      "outputs": [],
      "source": [
        "# Como el dataset original tiene muchas columnas, seteamos pandas para que se vean todas las columnas existentes en el dataset\n",
        "pd.set_option('display.max_columns', None)\n",
        "pd.set_option('display.max_colwidth', None)"
      ]
    },
    {
      "cell_type": "markdown",
      "metadata": {},
      "source": [
        "### Importacion de datos"
      ]
    },
    {
      "cell_type": "markdown",
      "metadata": {},
      "source": [
        "En caso de ya tener guardado jugadores_reducido.csv, ir a la seccion \"Limpieza de datos - Liga Argentina\""
      ]
    },
    {
      "cell_type": "code",
      "execution_count": null,
      "metadata": {
        "id": "wYdPKD3bg5QY"
      },
      "outputs": [
        {
          "ename": "FileNotFoundError",
          "evalue": "[Errno 2] No such file or directory: './data/male_players.csv'",
          "output_type": "error",
          "traceback": [
            "\u001b[31m---------------------------------------------------------------------------\u001b[39m",
            "\u001b[31mFileNotFoundError\u001b[39m                         Traceback (most recent call last)",
            "\u001b[36mCell\u001b[39m\u001b[36m \u001b[39m\u001b[32mIn[6]\u001b[39m\u001b[32m, line 3\u001b[39m\n\u001b[32m      1\u001b[39m \u001b[38;5;66;03m# Importacion de datos\u001b[39;00m\n\u001b[32m      2\u001b[39m csv_path = \u001b[33m'\u001b[39m\u001b[33m./data/male_players.csv\u001b[39m\u001b[33m'\u001b[39m\n\u001b[32m----> \u001b[39m\u001b[32m3\u001b[39m df = \u001b[43mpd\u001b[49m\u001b[43m.\u001b[49m\u001b[43mread_csv\u001b[49m\u001b[43m(\u001b[49m\u001b[43mcsv_path\u001b[49m\u001b[43m)\u001b[49m\n\u001b[32m      4\u001b[39m df.head()\n",
            "\u001b[36mFile \u001b[39m\u001b[32m~/miniconda3/lib/python3.12/site-packages/pandas/io/parsers/readers.py:1026\u001b[39m, in \u001b[36mread_csv\u001b[39m\u001b[34m(filepath_or_buffer, sep, delimiter, header, names, index_col, usecols, dtype, engine, converters, true_values, false_values, skipinitialspace, skiprows, skipfooter, nrows, na_values, keep_default_na, na_filter, verbose, skip_blank_lines, parse_dates, infer_datetime_format, keep_date_col, date_parser, date_format, dayfirst, cache_dates, iterator, chunksize, compression, thousands, decimal, lineterminator, quotechar, quoting, doublequote, escapechar, comment, encoding, encoding_errors, dialect, on_bad_lines, delim_whitespace, low_memory, memory_map, float_precision, storage_options, dtype_backend)\u001b[39m\n\u001b[32m   1013\u001b[39m kwds_defaults = _refine_defaults_read(\n\u001b[32m   1014\u001b[39m     dialect,\n\u001b[32m   1015\u001b[39m     delimiter,\n\u001b[32m   (...)\u001b[39m\u001b[32m   1022\u001b[39m     dtype_backend=dtype_backend,\n\u001b[32m   1023\u001b[39m )\n\u001b[32m   1024\u001b[39m kwds.update(kwds_defaults)\n\u001b[32m-> \u001b[39m\u001b[32m1026\u001b[39m \u001b[38;5;28;01mreturn\u001b[39;00m \u001b[43m_read\u001b[49m\u001b[43m(\u001b[49m\u001b[43mfilepath_or_buffer\u001b[49m\u001b[43m,\u001b[49m\u001b[43m \u001b[49m\u001b[43mkwds\u001b[49m\u001b[43m)\u001b[49m\n",
            "\u001b[36mFile \u001b[39m\u001b[32m~/miniconda3/lib/python3.12/site-packages/pandas/io/parsers/readers.py:620\u001b[39m, in \u001b[36m_read\u001b[39m\u001b[34m(filepath_or_buffer, kwds)\u001b[39m\n\u001b[32m    617\u001b[39m _validate_names(kwds.get(\u001b[33m\"\u001b[39m\u001b[33mnames\u001b[39m\u001b[33m\"\u001b[39m, \u001b[38;5;28;01mNone\u001b[39;00m))\n\u001b[32m    619\u001b[39m \u001b[38;5;66;03m# Create the parser.\u001b[39;00m\n\u001b[32m--> \u001b[39m\u001b[32m620\u001b[39m parser = \u001b[43mTextFileReader\u001b[49m\u001b[43m(\u001b[49m\u001b[43mfilepath_or_buffer\u001b[49m\u001b[43m,\u001b[49m\u001b[43m \u001b[49m\u001b[43m*\u001b[49m\u001b[43m*\u001b[49m\u001b[43mkwds\u001b[49m\u001b[43m)\u001b[49m\n\u001b[32m    622\u001b[39m \u001b[38;5;28;01mif\u001b[39;00m chunksize \u001b[38;5;129;01mor\u001b[39;00m iterator:\n\u001b[32m    623\u001b[39m     \u001b[38;5;28;01mreturn\u001b[39;00m parser\n",
            "\u001b[36mFile \u001b[39m\u001b[32m~/miniconda3/lib/python3.12/site-packages/pandas/io/parsers/readers.py:1620\u001b[39m, in \u001b[36mTextFileReader.__init__\u001b[39m\u001b[34m(self, f, engine, **kwds)\u001b[39m\n\u001b[32m   1617\u001b[39m     \u001b[38;5;28mself\u001b[39m.options[\u001b[33m\"\u001b[39m\u001b[33mhas_index_names\u001b[39m\u001b[33m\"\u001b[39m] = kwds[\u001b[33m\"\u001b[39m\u001b[33mhas_index_names\u001b[39m\u001b[33m\"\u001b[39m]\n\u001b[32m   1619\u001b[39m \u001b[38;5;28mself\u001b[39m.handles: IOHandles | \u001b[38;5;28;01mNone\u001b[39;00m = \u001b[38;5;28;01mNone\u001b[39;00m\n\u001b[32m-> \u001b[39m\u001b[32m1620\u001b[39m \u001b[38;5;28mself\u001b[39m._engine = \u001b[38;5;28;43mself\u001b[39;49m\u001b[43m.\u001b[49m\u001b[43m_make_engine\u001b[49m\u001b[43m(\u001b[49m\u001b[43mf\u001b[49m\u001b[43m,\u001b[49m\u001b[43m \u001b[49m\u001b[38;5;28;43mself\u001b[39;49m\u001b[43m.\u001b[49m\u001b[43mengine\u001b[49m\u001b[43m)\u001b[49m\n",
            "\u001b[36mFile \u001b[39m\u001b[32m~/miniconda3/lib/python3.12/site-packages/pandas/io/parsers/readers.py:1880\u001b[39m, in \u001b[36mTextFileReader._make_engine\u001b[39m\u001b[34m(self, f, engine)\u001b[39m\n\u001b[32m   1878\u001b[39m     \u001b[38;5;28;01mif\u001b[39;00m \u001b[33m\"\u001b[39m\u001b[33mb\u001b[39m\u001b[33m\"\u001b[39m \u001b[38;5;129;01mnot\u001b[39;00m \u001b[38;5;129;01min\u001b[39;00m mode:\n\u001b[32m   1879\u001b[39m         mode += \u001b[33m\"\u001b[39m\u001b[33mb\u001b[39m\u001b[33m\"\u001b[39m\n\u001b[32m-> \u001b[39m\u001b[32m1880\u001b[39m \u001b[38;5;28mself\u001b[39m.handles = \u001b[43mget_handle\u001b[49m\u001b[43m(\u001b[49m\n\u001b[32m   1881\u001b[39m \u001b[43m    \u001b[49m\u001b[43mf\u001b[49m\u001b[43m,\u001b[49m\n\u001b[32m   1882\u001b[39m \u001b[43m    \u001b[49m\u001b[43mmode\u001b[49m\u001b[43m,\u001b[49m\n\u001b[32m   1883\u001b[39m \u001b[43m    \u001b[49m\u001b[43mencoding\u001b[49m\u001b[43m=\u001b[49m\u001b[38;5;28;43mself\u001b[39;49m\u001b[43m.\u001b[49m\u001b[43moptions\u001b[49m\u001b[43m.\u001b[49m\u001b[43mget\u001b[49m\u001b[43m(\u001b[49m\u001b[33;43m\"\u001b[39;49m\u001b[33;43mencoding\u001b[39;49m\u001b[33;43m\"\u001b[39;49m\u001b[43m,\u001b[49m\u001b[43m \u001b[49m\u001b[38;5;28;43;01mNone\u001b[39;49;00m\u001b[43m)\u001b[49m\u001b[43m,\u001b[49m\n\u001b[32m   1884\u001b[39m \u001b[43m    \u001b[49m\u001b[43mcompression\u001b[49m\u001b[43m=\u001b[49m\u001b[38;5;28;43mself\u001b[39;49m\u001b[43m.\u001b[49m\u001b[43moptions\u001b[49m\u001b[43m.\u001b[49m\u001b[43mget\u001b[49m\u001b[43m(\u001b[49m\u001b[33;43m\"\u001b[39;49m\u001b[33;43mcompression\u001b[39;49m\u001b[33;43m\"\u001b[39;49m\u001b[43m,\u001b[49m\u001b[43m \u001b[49m\u001b[38;5;28;43;01mNone\u001b[39;49;00m\u001b[43m)\u001b[49m\u001b[43m,\u001b[49m\n\u001b[32m   1885\u001b[39m \u001b[43m    \u001b[49m\u001b[43mmemory_map\u001b[49m\u001b[43m=\u001b[49m\u001b[38;5;28;43mself\u001b[39;49m\u001b[43m.\u001b[49m\u001b[43moptions\u001b[49m\u001b[43m.\u001b[49m\u001b[43mget\u001b[49m\u001b[43m(\u001b[49m\u001b[33;43m\"\u001b[39;49m\u001b[33;43mmemory_map\u001b[39;49m\u001b[33;43m\"\u001b[39;49m\u001b[43m,\u001b[49m\u001b[43m \u001b[49m\u001b[38;5;28;43;01mFalse\u001b[39;49;00m\u001b[43m)\u001b[49m\u001b[43m,\u001b[49m\n\u001b[32m   1886\u001b[39m \u001b[43m    \u001b[49m\u001b[43mis_text\u001b[49m\u001b[43m=\u001b[49m\u001b[43mis_text\u001b[49m\u001b[43m,\u001b[49m\n\u001b[32m   1887\u001b[39m \u001b[43m    \u001b[49m\u001b[43merrors\u001b[49m\u001b[43m=\u001b[49m\u001b[38;5;28;43mself\u001b[39;49m\u001b[43m.\u001b[49m\u001b[43moptions\u001b[49m\u001b[43m.\u001b[49m\u001b[43mget\u001b[49m\u001b[43m(\u001b[49m\u001b[33;43m\"\u001b[39;49m\u001b[33;43mencoding_errors\u001b[39;49m\u001b[33;43m\"\u001b[39;49m\u001b[43m,\u001b[49m\u001b[43m \u001b[49m\u001b[33;43m\"\u001b[39;49m\u001b[33;43mstrict\u001b[39;49m\u001b[33;43m\"\u001b[39;49m\u001b[43m)\u001b[49m\u001b[43m,\u001b[49m\n\u001b[32m   1888\u001b[39m \u001b[43m    \u001b[49m\u001b[43mstorage_options\u001b[49m\u001b[43m=\u001b[49m\u001b[38;5;28;43mself\u001b[39;49m\u001b[43m.\u001b[49m\u001b[43moptions\u001b[49m\u001b[43m.\u001b[49m\u001b[43mget\u001b[49m\u001b[43m(\u001b[49m\u001b[33;43m\"\u001b[39;49m\u001b[33;43mstorage_options\u001b[39;49m\u001b[33;43m\"\u001b[39;49m\u001b[43m,\u001b[49m\u001b[43m \u001b[49m\u001b[38;5;28;43;01mNone\u001b[39;49;00m\u001b[43m)\u001b[49m\u001b[43m,\u001b[49m\n\u001b[32m   1889\u001b[39m \u001b[43m\u001b[49m\u001b[43m)\u001b[49m\n\u001b[32m   1890\u001b[39m \u001b[38;5;28;01massert\u001b[39;00m \u001b[38;5;28mself\u001b[39m.handles \u001b[38;5;129;01mis\u001b[39;00m \u001b[38;5;129;01mnot\u001b[39;00m \u001b[38;5;28;01mNone\u001b[39;00m\n\u001b[32m   1891\u001b[39m f = \u001b[38;5;28mself\u001b[39m.handles.handle\n",
            "\u001b[36mFile \u001b[39m\u001b[32m~/miniconda3/lib/python3.12/site-packages/pandas/io/common.py:873\u001b[39m, in \u001b[36mget_handle\u001b[39m\u001b[34m(path_or_buf, mode, encoding, compression, memory_map, is_text, errors, storage_options)\u001b[39m\n\u001b[32m    868\u001b[39m \u001b[38;5;28;01melif\u001b[39;00m \u001b[38;5;28misinstance\u001b[39m(handle, \u001b[38;5;28mstr\u001b[39m):\n\u001b[32m    869\u001b[39m     \u001b[38;5;66;03m# Check whether the filename is to be opened in binary mode.\u001b[39;00m\n\u001b[32m    870\u001b[39m     \u001b[38;5;66;03m# Binary mode does not support 'encoding' and 'newline'.\u001b[39;00m\n\u001b[32m    871\u001b[39m     \u001b[38;5;28;01mif\u001b[39;00m ioargs.encoding \u001b[38;5;129;01mand\u001b[39;00m \u001b[33m\"\u001b[39m\u001b[33mb\u001b[39m\u001b[33m\"\u001b[39m \u001b[38;5;129;01mnot\u001b[39;00m \u001b[38;5;129;01min\u001b[39;00m ioargs.mode:\n\u001b[32m    872\u001b[39m         \u001b[38;5;66;03m# Encoding\u001b[39;00m\n\u001b[32m--> \u001b[39m\u001b[32m873\u001b[39m         handle = \u001b[38;5;28;43mopen\u001b[39;49m\u001b[43m(\u001b[49m\n\u001b[32m    874\u001b[39m \u001b[43m            \u001b[49m\u001b[43mhandle\u001b[49m\u001b[43m,\u001b[49m\n\u001b[32m    875\u001b[39m \u001b[43m            \u001b[49m\u001b[43mioargs\u001b[49m\u001b[43m.\u001b[49m\u001b[43mmode\u001b[49m\u001b[43m,\u001b[49m\n\u001b[32m    876\u001b[39m \u001b[43m            \u001b[49m\u001b[43mencoding\u001b[49m\u001b[43m=\u001b[49m\u001b[43mioargs\u001b[49m\u001b[43m.\u001b[49m\u001b[43mencoding\u001b[49m\u001b[43m,\u001b[49m\n\u001b[32m    877\u001b[39m \u001b[43m            \u001b[49m\u001b[43merrors\u001b[49m\u001b[43m=\u001b[49m\u001b[43merrors\u001b[49m\u001b[43m,\u001b[49m\n\u001b[32m    878\u001b[39m \u001b[43m            \u001b[49m\u001b[43mnewline\u001b[49m\u001b[43m=\u001b[49m\u001b[33;43m\"\u001b[39;49m\u001b[33;43m\"\u001b[39;49m\u001b[43m,\u001b[49m\n\u001b[32m    879\u001b[39m \u001b[43m        \u001b[49m\u001b[43m)\u001b[49m\n\u001b[32m    880\u001b[39m     \u001b[38;5;28;01melse\u001b[39;00m:\n\u001b[32m    881\u001b[39m         \u001b[38;5;66;03m# Binary mode\u001b[39;00m\n\u001b[32m    882\u001b[39m         handle = \u001b[38;5;28mopen\u001b[39m(handle, ioargs.mode)\n",
            "\u001b[31mFileNotFoundError\u001b[39m: [Errno 2] No such file or directory: './data/male_players.csv'"
          ]
        }
      ],
      "source": [
        "# Importacion de datos\n",
        "csv_path = './data_cleaning/male_players.csv'\n",
        "df = pd.read_csv(csv_path)\n",
        "df.head()"
      ]
    },
    {
      "cell_type": "markdown",
      "metadata": {},
      "source": [
        "Existen columnas que son propias del juego FIFA, y que para nuestro analisis no son utiles, por lo que decidimos ignorarlas en un nuevo dataset"
      ]
    },
    {
      "cell_type": "code",
      "execution_count": null,
      "metadata": {
        "id": "HTFYETIBhAhA"
      },
      "outputs": [],
      "source": [
        "# Seleccion de columnas a utilizar en el proyecto\n",
        "columnas_utiles = ['player_url', 'fifa_version', 'fifa_update','long_name', 'player_positions', 'dob',\n",
        "                   'height_cm', 'weight_kg', 'league_name', 'league_level', 'club_name', 'club_position', 'club_jersey_number',\n",
        "                   'nationality_name', 'nation_position', 'nation_jersey_number', 'preferred_foot']\n",
        "\n",
        "df = df[columnas_utiles].copy() "
      ]
    },
    {
      "cell_type": "code",
      "execution_count": null,
      "metadata": {},
      "outputs": [],
      "source": [
        "df.head()"
      ]
    },
    {
      "cell_type": "code",
      "execution_count": null,
      "metadata": {
        "id": "CN1PfF8hhRzV"
      },
      "outputs": [],
      "source": [
        "# Guardamos el dataset reducido para no tener que cargar el original cada vez\n",
        "df.to_csv(\"jugadores_reducido.csv\", index=False)"
      ]
    },
    {
      "cell_type": "markdown",
      "metadata": {},
      "source": [
        "### Limpieza de datos - Jugadores de la Liga Argentina"
      ]
    },
    {
      "cell_type": "code",
      "execution_count": null,
      "metadata": {
        "id": "DjPPnbeRhfEY"
      },
      "outputs": [],
      "source": [
        "# Ejecutar cuando se tiene el dataset reducido\n",
        "df = pd.read_csv(\"jugadores_reducido.csv\")\n",
        "df.head()"
      ]
    },
    {
      "cell_type": "code",
      "execution_count": null,
      "metadata": {
        "id": "bxY3iifahtq8"
      },
      "outputs": [],
      "source": [
        "df['league_name'].dropna().unique()"
      ]
    },
    {
      "cell_type": "markdown",
      "metadata": {},
      "source": [
        "1. Guardamos los jugadores cuyo nombre de liga sea \"Liga Argentina\""
      ]
    },
    {
      "cell_type": "code",
      "execution_count": null,
      "metadata": {
        "id": "7DTrAw5KiShO"
      },
      "outputs": [],
      "source": [
        "# Guardamos los jugadores de la liga profesional\n",
        "liga_argentina = df[df['league_name'].str.lower().str.contains('liga profesional', na=False)]\n",
        "liga_argentina.head()"
      ]
    },
    {
      "cell_type": "code",
      "execution_count": null,
      "metadata": {
        "id": "dLp2yIGIicFz"
      },
      "outputs": [],
      "source": [
        "# Ejecutar en caso de querer tener guardada la liga argentina\n",
        "liga_argentina.to_csv(\"liga_argentina.csv\", index=False)"
      ]
    },
    {
      "cell_type": "code",
      "execution_count": null,
      "metadata": {
        "id": "yy3cghwrimmi"
      },
      "outputs": [],
      "source": [
        "# Ejecutar cuando se tiene guardada liga_argentina.csv\n",
        "#liga_argentina = pd.read_csv(\"liga_argentina.csv\")\n",
        "#liga_argentina.head()"
      ]
    },
    {
      "cell_type": "code",
      "execution_count": null,
      "metadata": {},
      "outputs": [],
      "source": [
        "liga_argentina.head()"
      ]
    },
    {
      "cell_type": "code",
      "execution_count": null,
      "metadata": {
        "id": "SsfH_s3LivVE"
      },
      "outputs": [],
      "source": [
        "liga_argentina = liga_argentina.copy()"
      ]
    },
    {
      "cell_type": "code",
      "execution_count": null,
      "metadata": {
        "id": "ecLEtT3Wiv3D"
      },
      "outputs": [],
      "source": [
        "# Total columnas y filas\n",
        "liga_argentina.shape"
      ]
    },
    {
      "cell_type": "markdown",
      "metadata": {},
      "source": [
        "2. Eliminacion de jugadores duplicados"
      ]
    },
    {
      "cell_type": "code",
      "execution_count": null,
      "metadata": {
        "id": "lf5zrtXhizV7"
      },
      "outputs": [],
      "source": [
        "# Mantener la primera fila encontrada para cada long_name duplicado ya que las demas filas eran de versiones anteriores del jugador\n",
        "liga_argentina = liga_argentina.drop_duplicates(subset=['long_name'], keep='first') "
      ]
    },
    {
      "cell_type": "code",
      "execution_count": null,
      "metadata": {
        "id": "SXlJtYc8i1Wj"
      },
      "outputs": [],
      "source": [
        "# Total columnas y filas sin duplicados\n",
        "liga_argentina.shape"
      ]
    },
    {
      "cell_type": "markdown",
      "metadata": {},
      "source": [
        "3. Eliminacion de features innecesarias"
      ]
    },
    {
      "cell_type": "code",
      "execution_count": null,
      "metadata": {
        "id": "qMxqrUyolw8e"
      },
      "outputs": [],
      "source": [
        "# Eliminamos 'player_url', 'fifa_version', 'fifa_update' porque ya no se usan mas\n",
        "liga_argentina.drop(columns=['player_url', 'fifa_version', 'fifa_update'], inplace=True)\n",
        "liga_argentina.head()"
      ]
    },
    {
      "cell_type": "code",
      "execution_count": null,
      "metadata": {
        "id": "rlDn2o0Ki7HD"
      },
      "outputs": [],
      "source": [
        "# Ejecutar en caso de querer guardar la liga argentina sin duplicados\n",
        "liga_argentina.to_csv(\"liga_argentina_sin_duplicados.csv\", index=False)"
      ]
    },
    {
      "cell_type": "markdown",
      "metadata": {},
      "source": [
        "### Visualizaciones"
      ]
    },
    {
      "cell_type": "markdown",
      "metadata": {},
      "source": [
        "1. Cantidad de jugadores por equipo dentro de la Liga Argentina"
      ]
    },
    {
      "cell_type": "code",
      "execution_count": null,
      "metadata": {
        "id": "UDfaWPNClJds"
      },
      "outputs": [],
      "source": [
        "# Gráfico que muestra la cantidad de jugadores por equipo\n",
        "\n",
        "plt.figure(figsize=(15, 8)) # Aumenta el tamaño para mejor visualización\n",
        "club_counts_all = liga_argentina['club_name'].value_counts() # Considera todos los clubes\n",
        "\n",
        "sns.barplot(x=club_counts_all.index, y=club_counts_all.values, palette=\"viridis\")\n",
        "\n",
        "plt.title(\"Cantidad de jugadores por club (Todos los clubes)\", fontsize=16)\n",
        "plt.xlabel(\"Club\", fontsize=12)\n",
        "plt.ylabel(\"Cantidad de jugadores\", fontsize=12)\n",
        "plt.xticks(rotation=90, ha='right', fontsize=10) # Rota las etiquetas del eje X\n",
        "plt.grid(axis='y', linestyle='--', alpha=0.7)\n",
        "plt.tight_layout() # Ajusta el diseño para evitar solapamiento\n",
        "plt.show()"
      ]
    },
    {
      "cell_type": "markdown",
      "metadata": {},
      "source": [
        "2. Cantidad de jugadores por pierna preferida"
      ]
    },
    {
      "cell_type": "code",
      "execution_count": null,
      "metadata": {
        "id": "wcaF2Xx2m5-V"
      },
      "outputs": [],
      "source": [
        "# Gráfico que muestra la cantidad de jugadores por pierna preferida\n",
        "plt.figure(figsize=(8, 6))\n",
        "sns.countplot(x='preferred_foot', data=liga_argentina, palette='viridis')\n",
        "plt.title('Cantidad de jugadores por pierna preferida', fontsize=16)\n",
        "plt.xlabel('Pierna preferida', fontsize=12)\n",
        "plt.ylabel('Cantidad de jugadores', fontsize=12)\n",
        "plt.show()"
      ]
    },
    {
      "cell_type": "markdown",
      "metadata": {},
      "source": [
        "3. Cantidad de jugadores por nacionalidad"
      ]
    },
    {
      "cell_type": "code",
      "execution_count": null,
      "metadata": {
        "id": "qV-Me8wLoSJn"
      },
      "outputs": [],
      "source": [
        "# Gráfico que muestra la cantidad de jugadores por nacionalidad\n",
        "plt.figure(figsize=(14, 7))\n",
        "nationality_counts = liga_argentina['nationality_name'].value_counts().head(20) # Top 20 nacionalidades\n",
        "\n",
        "sns.barplot(x=nationality_counts.values, y=nationality_counts.index, palette='viridis')\n",
        "plt.title('Top 20 Nacionalidades de jugadores en el dataset', fontsize=16)\n",
        "plt.xlabel('Cantidad de jugadores', fontsize=12)\n",
        "plt.ylabel('Nacionalidad', fontsize=12)\n",
        "plt.grid(axis='x', linestyle='--', alpha=0.7)\n",
        "plt.tight_layout()\n",
        "plt.show()\n",
        "\n",
        "# La mayoría de los jugadores son Argentinos, por ende podemos decir que este gráfico nos sirve para que, cuando entrenemos las preguntas, no usemos la pregunta \"De qué nacionalidad es x jugador?\" Porque va a tender a decir argentina (?)"
      ]
    },
    {
      "cell_type": "markdown",
      "metadata": {},
      "source": [
        "### Tranformacion de datos"
      ]
    },
    {
      "cell_type": "markdown",
      "metadata": {},
      "source": [
        "1. Transformacion de tipos de datos para un menor consumo de memoria"
      ]
    },
    {
      "cell_type": "code",
      "execution_count": null,
      "metadata": {
        "id": "NSlN_d8Di7jN"
      },
      "outputs": [],
      "source": [
        "liga_argentina.info()"
      ]
    },
    {
      "cell_type": "code",
      "execution_count": null,
      "metadata": {
        "id": "iYfq9VRUmVpd"
      },
      "outputs": [],
      "source": [
        "# Transformacion de tipos de datos\n",
        "int1_cols = ['height_cm', 'weight_kg']\n",
        "str_cols = ['long_name', 'player_positions']\n",
        "datetime_cols = ['dob']\n",
        "category_cols = ['league_name', 'club_name', 'club_position', 'nationality_name', 'nation_position', 'preferred_foot']\n",
        "int_cols = ['league_level', 'club_jersey_number', 'nation_jersey_number']\n",
        "\n",
        "# Convertir a int\n",
        "for col in int1_cols:\n",
        "    liga_argentina[col] = liga_argentina[col].astype('Int64')\n",
        "\n",
        "# Convertir a string\n",
        "for col in str_cols:\n",
        "    liga_argentina[col] = liga_argentina[col].astype('str')\n",
        "\n",
        "# Convertir a datetime\n",
        "for col in datetime_cols:\n",
        "    liga_argentina[col] = pd.to_datetime(liga_argentina[col], errors='coerce')\n",
        "\n",
        "# Convertir a category\n",
        "for col in category_cols:\n",
        "    liga_argentina[col] = liga_argentina[col].astype('category')\n",
        "\n",
        "# Convertir a Int64 (nullable integer)\n",
        "for col in int_cols:\n",
        "    liga_argentina[col] = liga_argentina[col].astype('Int64')\n",
        "\n",
        "liga_argentina.info()"
      ]
    },
    {
      "cell_type": "markdown",
      "metadata": {},
      "source": [
        "2. Analisis de nulos"
      ]
    },
    {
      "cell_type": "code",
      "execution_count": null,
      "metadata": {
        "id": "UsjiXUP1mZNc"
      },
      "outputs": [],
      "source": [
        "# Verificacion de nulos\n",
        "liga_argentina.isnull().sum()"
      ]
    },
    {
      "cell_type": "code",
      "execution_count": null,
      "metadata": {},
      "outputs": [],
      "source": [
        "liga_argentina[df['nation_position'].isnull()].head()"
      ]
    },
    {
      "cell_type": "markdown",
      "metadata": {},
      "source": [
        "Observamos que los nulos provienen de nation_position y nation_jersey_number, y al analizar dichos casos entendimos que se tratan de jugadores que no se encuentran convocados en la seleccion de su pais. Para trabajar con ellos primero decidimos reemplazar las posiciones de los jugadores que se encuentran abreviadas en las originales o completas"
      ]
    },
    {
      "cell_type": "markdown",
      "metadata": {},
      "source": [
        "3. Manejo de abreviaciones"
      ]
    },
    {
      "cell_type": "code",
      "execution_count": null,
      "metadata": {
        "id": "iYKVTkQemfYs"
      },
      "outputs": [],
      "source": [
        "# Divide las posiciones de juego del player_position por coma y quita espacios (guardado en un array)\n",
        "# Va a ser util para el diccionario de posiciones\n",
        "liga_argentina['player_positions'] = liga_argentina['player_positions'].fillna('').str.split(', ')\n",
        "liga_argentina.head()"
      ]
    },
    {
      "cell_type": "code",
      "execution_count": null,
      "metadata": {
        "id": "aieBdcPHmjCF"
      },
      "outputs": [],
      "source": [
        "# Diccionario de abreviaciones a descripciones en español\n",
        "posiciones_fifa = {\n",
        "    \"GK\": \"Arquero\",\n",
        "    \"ST\": \"Delantero\",\n",
        "    \"CF\": \"Delantero Centro\",\n",
        "    \"LF\": \"Delantero Izquierdo\",\n",
        "    \"RF\": \"Delantero Derecho\",\n",
        "    \"LS\": \"Delantero Izquierdo\",\n",
        "    \"RS\": \"Delantero Derecho\",\n",
        "    \"LW\": \"Extremo Izquierdo\",\n",
        "    \"RW\": \"Extremo Derecho\",\n",
        "    \"CAM\": \"Mediocampista Ofensivo\",\n",
        "    \"CM\": \"Mediocampista Central\",\n",
        "    \"CDM\": \"Mediocampista Defensivo\",\n",
        "    \"LAM\": \"Mediocampista Izquierdo Ofensivo\",\n",
        "    \"RAM\": \"Mediocampista Derecho Ofensivo\",\n",
        "    \"LCM\": \"Mediocentro Izquierdo\",\n",
        "    \"RCM\": \"Mediocentro Derecho\",\n",
        "    \"LM\": \"Mediocampista Izquierdo\",\n",
        "    \"RM\": \"Mediocampista Derecho\",\n",
        "    \"LDM\": \"Mediocampista Defensivo Izquierdo\",\n",
        "    \"RDM\": \"Mediocampista Defensivo Derecho\",\n",
        "    \"LB\": \"Lateral Izquierdo\",\n",
        "    \"RB\": \"Lateral Derecho\",\n",
        "    \"LCB\": \"Defensor Central Izquierdo\",\n",
        "    \"RCB\": \"Defensor Central Derecho\",\n",
        "    \"CB\": \"Defensor Central\",\n",
        "    \"LWB\": \"Carrilero Izquierdo\",\n",
        "    \"RWB\": \"Carrilero Derecho\",\n",
        "    \"SUB\": \"Suplente\",\n",
        "    \"RES\": \"Reserva\",\n",
        "    \"No Convocado\": \"No Convocado\"\n",
        "}"
      ]
    },
    {
      "cell_type": "code",
      "execution_count": null,
      "metadata": {
        "id": "x92Bi_pfmlaW"
      },
      "outputs": [],
      "source": [
        "# Crea una nueva columna con las descripciones traducidas de players_positions\n",
        "liga_argentina['player_positions_desc'] = liga_argentina['player_positions'].apply(\n",
        "    lambda posiciones: [posiciones_fifa.get(pos.strip(), f\"Desconocida ({pos})\") for pos in posiciones]\n",
        ")\n",
        "liga_argentina.head()"
      ]
    },
    {
      "cell_type": "code",
      "execution_count": null,
      "metadata": {
        "id": "Sb61TxPzmnOx"
      },
      "outputs": [],
      "source": [
        "# Crea una nueva columna con las descripciones traducidas de club_position\n",
        "liga_argentina['club_position_desc'] = liga_argentina['club_position'].astype(str).apply(\n",
        "    lambda x: posiciones_fifa.get(x, f'Desconocida ({x})')\n",
        ")\n",
        "liga_argentina.head()"
      ]
    },
    {
      "cell_type": "markdown",
      "metadata": {},
      "source": [
        "Imputacion de nulos en nation_position"
      ]
    },
    {
      "cell_type": "code",
      "execution_count": null,
      "metadata": {
        "id": "rqH6lSYcmu_I"
      },
      "outputs": [],
      "source": [
        "# Agregar categoría \"No Convocado\" a la columna nation_position para los que no se encuentran convocados en la seleccion\n",
        "liga_argentina['nation_position'] = liga_argentina['nation_position'].cat.add_categories(['No Convocado'])\n",
        "\n",
        "# Reemplazamos NaN por \"No Convocado\"\n",
        "liga_argentina['nation_position'] = liga_argentina['nation_position'].fillna('No Convocado')"
      ]
    },
    {
      "cell_type": "code",
      "execution_count": null,
      "metadata": {
        "id": "FMbvjcI0mxil"
      },
      "outputs": [],
      "source": [
        "# Crea una nueva columna con las descripciones traducidas de nation_position\n",
        "liga_argentina['nation_position_desc'] = liga_argentina['nation_position'].astype(str).apply(\n",
        "    lambda x: posiciones_fifa.get(x, f'Desconocida ({x})')\n",
        ")\n",
        "liga_argentina.head()"
      ]
    },
    {
      "cell_type": "markdown",
      "metadata": {},
      "source": [
        "Imputacion de nulos en nation_jersey_number"
      ]
    },
    {
      "cell_type": "code",
      "execution_count": null,
      "metadata": {
        "id": "JOqzcn9Mm0pu"
      },
      "outputs": [],
      "source": [
        "# Imputamos un numero alto para identificar que no esta convocado el jugador a la seleccion de su pais\n",
        "liga_argentina['nation_jersey_number'] = liga_argentina['nation_jersey_number'].fillna(99)\n",
        "liga_argentina.head()"
      ]
    },
    {
      "cell_type": "markdown",
      "metadata": {},
      "source": [
        "4. Eliminacion de features innecesarias"
      ]
    },
    {
      "cell_type": "code",
      "execution_count": null,
      "metadata": {
        "id": "9eWz5K9C2TRS"
      },
      "outputs": [],
      "source": [
        "# Eliminamos las columnas repetidas en inglés para quedarnos con sus descripciones\n",
        "liga_argentina.drop(columns=['player_positions', 'club_position', 'nation_position'], inplace=True)"
      ]
    },
    {
      "cell_type": "markdown",
      "metadata": {},
      "source": [
        "5. Traduccion de valores ENG-ESP"
      ]
    },
    {
      "cell_type": "code",
      "execution_count": null,
      "metadata": {
        "id": "g5HXnA3Ym3vi"
      },
      "outputs": [],
      "source": [
        "# Diccionario de traducción\n",
        "foot_trad = {\n",
        "    'Right': 'Derecha',\n",
        "    'Left': 'Izquierda'\n",
        "}\n",
        "\n",
        "# Aplicar la traducción\n",
        "liga_argentina['preferred_foot'] = liga_argentina['preferred_foot'].map(foot_trad)\n",
        "liga_argentina.head()"
      ]
    },
    {
      "cell_type": "markdown",
      "metadata": {},
      "source": [
        "6. Ultimos detalles"
      ]
    },
    {
      "cell_type": "code",
      "execution_count": null,
      "metadata": {
        "id": "mGUlVkiSnBw3"
      },
      "outputs": [],
      "source": [
        "# Se necesita eliminar los corchetes de las posiciones de juego\n",
        "def limpiar_corchetes(text):\n",
        "    if isinstance(text, list):\n",
        "        return \", \".join(text)\n",
        "    if isinstance(text, str) and text.startswith(\"[\") and text.endswith(\"]\"):\n",
        "        return text.strip(\"[]\").replace(\"'\", \"\").replace('\"', '')\n",
        "    return text"
      ]
    },
    {
      "cell_type": "code",
      "execution_count": null,
      "metadata": {
        "id": "60X7dYDYnCoC"
      },
      "outputs": [],
      "source": [
        "# Aplicamos la funcion de limpiar corchetes a la columna player_positions_\n",
        "liga_argentina['player_positions_desc'] = liga_argentina['player_positions_desc'].apply(limpiar_corchetes)\n",
        "liga_argentina.head()"
      ]
    },
    {
      "cell_type": "markdown",
      "metadata": {},
      "source": [
        "### Normalizacion"
      ]
    },
    {
      "cell_type": "code",
      "execution_count": null,
      "metadata": {
        "id": "BB7vxlNGnqNf"
      },
      "outputs": [],
      "source": [
        "# Normalización de datos\n",
        "\n",
        "def normalizar_texto(texto):\n",
        "    if isinstance(texto, list):\n",
        "        # Normaliza cada posición en la lista\n",
        "        return [normalizar_texto(pos) for pos in texto]\n",
        "    elif pd.isna(texto) or texto == \"\":\n",
        "        # Retorna una lista vacía o maneja de alguna otra forma los NaN/vacíos si es necesario\n",
        "        return []\n",
        "    elif pd.isna(texto):\n",
        "        return \"\"\n",
        "    texto = str(texto).lower()  # para pasarlo a minúsculas\n",
        "    texto = unicodedata.normalize('NFD', texto).encode('ascii', 'ignore').decode('utf-8')  # para descomponer caracteres especiales y borrar tildes\n",
        "    return texto.strip()  # borrar espacios que estén al comienzo y al final\n",
        "\n",
        "cols_a_normalizar = [\n",
        "    'long_name',\n",
        "    'league_name',\n",
        "    'club_name',\n",
        "    'nationality_name',\n",
        "    'preferred_foot',\n",
        "    'player_positions_desc',\n",
        "    'club_position_desc',\n",
        "    'nation_position_desc'\n",
        "]\n",
        "\n",
        "for col in cols_a_normalizar:\n",
        "    liga_argentina[col] = liga_argentina[col].apply(normalizar_texto)\n",
        "liga_argentina.head()"
      ]
    },
    {
      "cell_type": "code",
      "execution_count": null,
      "metadata": {},
      "outputs": [],
      "source": [
        "liga_argentina.to_csv(\"liga_argentina_model.csv\", index=False)"
      ]
    },
    {
      "cell_type": "markdown",
      "metadata": {},
      "source": [
        "### Visualizaciones Finales"
      ]
    },
    {
      "cell_type": "code",
      "execution_count": null,
      "metadata": {
        "id": "akJBl1-jo-4d"
      },
      "outputs": [],
      "source": [
        "# Gráfico para ver la cantidad de jugadores por posición\n",
        "# Preparar datos para el gráfico de posiciones de juego\n",
        "# Primero, expandimos la columna player_positions_trans para tener una fila por cada posición\n",
        "posiciones_expandidas = liga_argentina['player_positions_desc'].str.split(', ', expand=True).stack().reset_index(level=1, drop=True).to_frame('posicion_expandida')\n",
        "\n",
        "# Unir con el DataFrame original para obtener las filas completas\n",
        "df_posiciones_expandidas = liga_argentina.drop('player_positions_desc', axis=1).join(posiciones_expandidas)\n",
        "\n",
        "# Contar la frecuencia de cada posición\n",
        "posicion_counts = df_posiciones_expandidas['posicion_expandida'].value_counts()\n",
        "\n",
        "# Diccionario para agrupar posiciones (simplificación)\n",
        "grupos_posiciones = {\n",
        "    'Arquero': ['arquero'],\n",
        "    'Defensa': ['lateral izquierdo', 'lateral derecho', 'defensor central izquierdo', 'defensor central derecho', 'defensor central', 'carrilero izquierdo', 'carrilero derecho'],\n",
        "    'Mediocampo': ['mediocampista ofensivo', 'mediocampista central', 'mediocampista defensivo', 'mediocampista izquierdo ofensivo', 'mediocampista derecho ofensivo', 'mediocentro izquierdo', 'mediocentro derecho', 'mediocampista izquierdo', 'mediocampista derecho', 'mediocampista defensivo izquierdo', 'mediocampista defensivo derecho'],\n",
        "    'Delantero': ['delantero', 'delantero centro', 'delantero izquierdo', 'delantero derecho', 'extremo izquierdo', 'extremo derecho'],\n",
        "    'Otros': ['suplente', 'reserva', 'no convocado', 'desconocida (nan)']\n",
        "}\n",
        "\n",
        "# Crear una nueva columna con las posiciones agrupadas\n",
        "def agrupar_posicion(posicion):\n",
        "    for grupo, posiciones_list in grupos_posiciones.items():\n",
        "        if posicion in posiciones_list:\n",
        "            return grupo\n",
        "    return 'Otros' # Por si acaso alguna posición no está mapeada\n",
        "\n",
        "df_posiciones_expandidas['grupo_posicion'] = df_posiciones_expandidas['posicion_expandida'].apply(agrupar_posicion)\n",
        "\n",
        "# Contar la frecuencia de las posiciones agrupadas\n",
        "grupo_posicion_counts = df_posiciones_expandidas['grupo_posicion'].value_counts()\n",
        "\n",
        "# Gráfico de barras de las posiciones agrupadas\n",
        "plt.figure(figsize=(10, 7))\n",
        "sns.barplot(x=grupo_posicion_counts.index, y=grupo_posicion_counts.values, palette=\"viridis\")\n",
        "plt.title('Distribución de Grupos de Posiciones de Juego', fontsize=16)\n",
        "plt.xlabel('Grupo de Posición', fontsize=12)\n",
        "plt.ylabel('Cantidad de Jugadores', fontsize=12)\n",
        "plt.xticks(rotation=45, ha='right')\n",
        "plt.grid(axis='y', linestyle='--', alpha=0.7)\n",
        "plt.tight_layout()\n",
        "plt.show()\n",
        "\n",
        "# Opcional: Gráfico de barras de las posiciones más detalladas (Top N)\n",
        "# Puedes ajustar N para ver más o menos posiciones\n",
        "n_top_positions = 20\n",
        "posiciones_top = posicion_counts.head(n_top_positions)\n",
        "\n",
        "plt.figure(figsize=(12, 8))\n",
        "sns.barplot(x=posiciones_top.values, y=posiciones_top.index, palette=\"viridis\")\n",
        "plt.title(f'Top {n_top_positions} Posiciones de Juego más Frecuentes', fontsize=16)\n",
        "plt.xlabel('Cantidad de Jugadores', fontsize=12)\n",
        "plt.ylabel('Posición', fontsize=12)\n",
        "plt.grid(axis='x', linestyle='--', alpha=0.7)\n",
        "plt.tight_layout()\n",
        "plt.show()"
      ]
    }
  ],
  "metadata": {
    "colab": {
      "provenance": []
    },
    "kernelspec": {
      "display_name": "Python 3 (ipykernel)",
      "language": "python",
      "name": "python3"
    },
    "language_info": {
      "codemirror_mode": {
        "name": "ipython",
        "version": 3
      },
      "file_extension": ".py",
      "mimetype": "text/x-python",
      "name": "python",
      "nbconvert_exporter": "python",
      "pygments_lexer": "ipython3",
      "version": "3.12.9"
    }
  },
  "nbformat": 4,
  "nbformat_minor": 0
}
